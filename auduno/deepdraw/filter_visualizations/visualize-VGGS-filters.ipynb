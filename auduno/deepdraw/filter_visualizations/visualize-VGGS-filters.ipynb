{
 "cells": [
  {
   "cell_type": "markdown",
   "metadata": {},
   "source": [
    "## Visualizing VGG-S filters\n",
    "\n",
    "This is an ipython notebook to generate visualizations of VGG-S filters, for some more info refer to [this blogpost](https://auduno.github.io/2016/06/18/peeking-inside-convnets/).\n",
    "\n",
    "To run this code, you'll need an installation of Caffe with built pycaffe libraries, as well as the python libraries numpy, scipy and PIL. For instructions on how to install Caffe and pycaffe, refer to the installation guide [here](http://caffe.berkeleyvision.org/installation.html). Before running the ipython notebooks, you'll also need to download the [VGG-S model](https://gist.github.com/ksimonyan/fd8800eeb36e276cd6f9), and modify the variables ```pycaffe_root``` to refer to the path of your pycaffe installation (if it's not already in your python path) and ```model_path``` to refer to the path of the downloaded VGG-S caffe model. Also uncomment the line that enables GPU mode if you have built Caffe with GPU-support and a suitable GPU available.\n"
   ]
  },
  {
   "cell_type": "code",
   "execution_count": 2,
   "metadata": {
    "collapsed": false
   },
   "outputs": [],
   "source": [
    "# imports and basic notebook setup\n",
    "from cStringIO import StringIO\n",
    "import numpy as np\n",
    "import os,re,random\n",
    "import scipy.ndimage as nd\n",
    "import PIL.Image\n",
    "import sys\n",
    "from IPython.display import clear_output, Image, display\n",
    "from scipy.misc import imresize\n",
    "\n",
    "pycaffe_root = \"/your/path/here/caffe/python\" # substitute your path here\n",
    "sys.path.insert(0, pycaffe_root)\n",
    "import caffe\n",
    "\n",
    "model_name=\"VGGS\"\n",
    "model_path = '/your/path/here/vggs_model/' # substitute your path here\n",
    "net_fn   = './VGG_CNN_S_deploy_mod.prototxt' # added force_backward : true to prototxt\n",
    "param_fn = model_path + 'VGG_CNN_S.caffemodel'\n",
    "means = np.float32([104.0, 117.0, 123.0])\n",
    "\n",
    "#caffe.set_mode_gpu() # uncomment this if gpu processing is available\n",
    "\n",
    "net = caffe.Classifier(net_fn, param_fn,\n",
    "                       mean = means, # ImageNet mean, training set dependent\n",
    "                       channel_swap = (2,1,0)) # the model has channels in BGR order instead of RGB\n",
    "\n",
    "# a couple of utility functions for converting to and from Caffe's input image layout\n",
    "def preprocess(net, img):\n",
    "    return np.float32(np.rollaxis(img, 2)[::-1]) - net.transformer.mean['data']\n",
    "def deprocess(net, img):\n",
    "    return np.dstack((img + net.transformer.mean['data'])[::-1])\n",
    "\n",
    "def blur(img, sigma):\n",
    "    if sigma > 0:\n",
    "        img[0] = nd.filters.gaussian_filter(img[0], sigma, order=0)\n",
    "        img[1] = nd.filters.gaussian_filter(img[1], sigma, order=0)\n",
    "        img[2] = nd.filters.gaussian_filter(img[2], sigma, order=0)\n",
    "    return img\n",
    "\n",
    "def showarray(a, f, fmt='jpeg'):\n",
    "    a = np.uint8(np.clip(a, 0, 255))\n",
    "    f = StringIO()\n",
    "    PIL.Image.fromarray(a).save(f, fmt)\n",
    "    display(Image(data=f.getvalue()))"
   ]
  },
  {
   "cell_type": "code",
   "execution_count": 3,
   "metadata": {
    "collapsed": true
   },
   "outputs": [],
   "source": [
    "def make_step(net, step_size=1.5, end='inception_4c/output', clip=True, focus=None, sigma=None):\n",
    "    '''Basic gradient ascent step.'''\n",
    "\n",
    "    src = net.blobs['data'] # input image is stored in Net's 'data' blob\n",
    "\n",
    "    dst = net.blobs[end]\n",
    "    net.forward(end=end)\n",
    "    \n",
    "    one_hot = np.zeros_like(dst.data)\n",
    "    filter_shape = dst.data.shape\n",
    "    if len(filter_shape) > 2:\n",
    "        # backprop only activation in middle of filter\n",
    "        one_hot[0,focus,(filter_shape[2]-1)/2,(filter_shape[3]-1)/2] = 1.\n",
    "    else:\n",
    "        one_hot.flat[focus] = 1.\n",
    "    dst.diff[:] = one_hot\n",
    "    \n",
    "    net.backward(start=end)\n",
    "    g = src.diff[0]\n",
    "    \n",
    "    src.data[:] += step_size/np.abs(g).mean() * g\n",
    "\n",
    "    if clip:\n",
    "        bias = net.transformer.mean['data']\n",
    "        src.data[:] = np.clip(src.data, -bias, 255-bias) \n",
    "        \n",
    "    src.data[0] = blur(src.data[0], sigma)\n",
    "    \n",
    "    dst.diff.fill(0.)\n",
    "\n",
    "def deepdraw(net, base_img, octaves, random_crop=True, visualize=True, focus=None,\n",
    "    clip=True, **step_params):\n",
    "    \n",
    "    # prepare base image\n",
    "    image = preprocess(net, base_img) # (3,224,224)\n",
    "    \n",
    "    # get input dimensions from net\n",
    "    w = net.blobs['data'].width\n",
    "    h = net.blobs['data'].height\n",
    "    \n",
    "    print \"starting drawing\"\n",
    "    src = net.blobs['data']\n",
    "    src.reshape(1,3,h,w) # resize the network's input image size\n",
    "    for e,o in enumerate(octaves):\n",
    "        if 'scale' in o:\n",
    "            # resize by o['scale'] if it exists\n",
    "            image = nd.zoom(image, (1,o['scale'],o['scale']))\n",
    "        _,imw,imh = image.shape\n",
    "        \n",
    "        # select layer\n",
    "        layer = o['layer']\n",
    "        \n",
    "        for i in xrange(o['iter_n']):\n",
    "            if imw > w:\n",
    "                if random_crop:\n",
    "                    # randomly select a crop \n",
    "                    #ox = random.randint(0,imw-224)\n",
    "                    #oy = random.randint(0,imh-224)\n",
    "                    mid_x = (imw-w)/2.\n",
    "                    width_x = imw-w\n",
    "                    ox = np.random.normal(mid_x, width_x*0.3, 1)\n",
    "                    ox = int(np.clip(ox,0,imw-w))\n",
    "                    mid_y = (imh-h)/2.\n",
    "                    width_y = imh-h\n",
    "                    oy = np.random.normal(mid_y, width_y*0.3, 1)\n",
    "                    oy = int(np.clip(oy,0,imh-h))\n",
    "                    # insert the crop into src.data[0]\n",
    "                    src.data[0] = image[:,ox:ox+w,oy:oy+h]\n",
    "                else:\n",
    "                    ox = (imw-w)/2.\n",
    "                    oy = (imh-h)/2.\n",
    "                    src.data[0] = image[:,ox:ox+w,oy:oy+h]\n",
    "            else:\n",
    "                ox = 0\n",
    "                oy = 0\n",
    "                src.data[0] = image.copy()\n",
    "\n",
    "            sigma = o['start_sigma'] + ((o['end_sigma'] - o['start_sigma']) * i) / o['iter_n']\n",
    "            step_size = o['start_step_size'] + ((o['end_step_size'] - o['start_step_size']) * i) / o['iter_n']\n",
    "            \n",
    "            make_step(net, end=layer, clip=clip, focus=focus, \n",
    "                      sigma=sigma, step_size=step_size)\n",
    "            \n",
    "            if visualize:\n",
    "                vis = deprocess(net, src.data[0])\n",
    "                if not clip: # adjust image contrast if clipping is disabled\n",
    "                    vis = vis*(255.0/np.percentile(vis, 99.98))\n",
    "                if i % 1 == 0:\n",
    "                    showarray(vis,\"./filename\"+str(i)+\".jpg\")\n",
    "            \n",
    "            if i % 10 == 0:\n",
    "                print 'finished step %d in octave %d' % (i,e)\n",
    "            \n",
    "            # insert modified image back into original image (if necessary)\n",
    "            image[:,ox:ox+w,oy:oy+h] = src.data[0]\n",
    "        \n",
    "        print \"octave %d image:\" % e\n",
    "        showarray(deprocess(net, image),\"./octave_\"+str(e)+\".jpg\")\n",
    "            \n",
    "    # returning the resulting image\n",
    "    return deprocess(net, image)"
   ]
  },
  {
   "cell_type": "code",
   "execution_count": 6,
   "metadata": {
    "collapsed": false
   },
   "outputs": [
    {
     "name": "stdout",
     "output_type": "stream",
     "text": [
      "starting drawing\n",
      "finished step 0 in octave 0\n",
      "finished step 10 in octave 0\n",
      "finished step 20 in octave 0\n",
      "finished step 30 in octave 0\n",
      "finished step 40 in octave 0\n",
      "finished step 50 in octave 0\n",
      "finished step 60 in octave 0\n",
      "finished step 70 in octave 0\n",
      "finished step 80 in octave 0\n",
      "finished step 90 in octave 0\n",
      "finished step 100 in octave 0\n",
      "finished step 110 in octave 0\n",
      "finished step 120 in octave 0\n",
      "finished step 130 in octave 0\n",
      "finished step 140 in octave 0\n",
      "finished step 150 in octave 0\n",
      "finished step 160 in octave 0\n",
      "finished step 170 in octave 0\n",
      "finished step 180 in octave 0\n",
      "finished step 190 in octave 0\n",
      "octave 0 image:\n"
     ]
    },
    {
     "data": {
      "image/jpeg": "[encoded data removed]",
      "text/plain": [
       "<IPython.core.display.Image object>"
      ]
     },
     "metadata": {},
     "output_type": "display_data"
    },
    {
     "name": "stdout",
     "output_type": "stream",
     "text": [
      "finished step 0 in octave 1\n",
      "finished step 10 in octave 1\n",
      "finished step 20 in octave 1\n",
      "finished step 30 in octave 1\n",
      "finished step 40 in octave 1\n",
      "finished step 50 in octave 1\n",
      "finished step 60 in octave 1\n",
      "finished step 70 in octave 1\n",
      "finished step 80 in octave 1\n",
      "finished step 90 in octave 1\n",
      "octave 1 image:\n"
     ]
    },
    {
     "data": {
      "image/jpeg": "[encoded data removed]",
      "text/plain": [
       "<IPython.core.display.Image object>"
      ]
     },
     "metadata": {},
     "output_type": "display_data"
    },
    {
     "name": "stdout",
     "output_type": "stream",
     "text": [
      "finished step 0 in octave 2\n",
      "finished step 10 in octave 2\n",
      "finished step 20 in octave 2\n",
      "finished step 30 in octave 2\n",
      "finished step 40 in octave 2\n",
      "finished step 50 in octave 2\n",
      "finished step 60 in octave 2\n",
      "finished step 70 in octave 2\n",
      "finished step 80 in octave 2\n",
      "finished step 90 in octave 2\n",
      "octave 2 image:\n"
     ]
    },
    {
     "data": {
      "image/jpeg": "[encoded data removed]",
      "text/plain": [
       "<IPython.core.display.Image object>"
      ]
     },
     "metadata": {},
     "output_type": "display_data"
    },
    {
     "name": "stdout",
     "output_type": "stream",
     "text": [
      "finished step 0 in octave 3\n",
      "finished step 10 in octave 3\n",
      "finished step 20 in octave 3\n",
      "finished step 30 in octave 3\n",
      "finished step 40 in octave 3\n",
      "octave 3 image:\n"
     ]
    },
    {
     "data": {
      "image/jpeg": "[encoded data removed]",
      "text/plain": [
       "<IPython.core.display.Image object>"
      ]
     },
     "metadata": {},
     "output_type": "display_data"
    },
    {
     "name": "stdout",
     "output_type": "stream",
     "text": [
      "finished step 0 in octave 4\n",
      "finished step 10 in octave 4\n",
      "finished step 20 in octave 4\n",
      "octave 4 image:\n"
     ]
    },
    {
     "data": {
      "image/jpeg": "[encoded data removed]",
      "text/plain": [
       "<IPython.core.display.Image object>"
      ]
     },
     "metadata": {},
     "output_type": "display_data"
    }
   ],
   "source": [
    "octaves = [\n",
    "    {\n",
    "        'layer':'conv5',\n",
    "        'iter_n':200,\n",
    "        'start_sigma':2.5,\n",
    "        'end_sigma':1.1,\n",
    "        'start_step_size':12.*0.25,\n",
    "        'end_step_size':10.*0.25,\n",
    "    },\n",
    "    {\n",
    "        'layer':'conv5',\n",
    "        'iter_n':100,\n",
    "        'start_sigma':1.1,\n",
    "        'end_sigma':0.78*1.1,\n",
    "        'start_step_size':10.*0.25,\n",
    "        'end_step_size':8.*0.25\n",
    "    },\n",
    "    {\n",
    "        'layer':'conv5',\n",
    "        'scale':1.05,\n",
    "        'iter_n':100,\n",
    "        'start_sigma':0.78*1.1,\n",
    "        'end_sigma':0.78,\n",
    "        'start_step_size':8.*0.25,\n",
    "        'end_step_size':6.*0.25\n",
    "    },\n",
    "    {\n",
    "        'layer':'conv5',\n",
    "        'scale':1.05,\n",
    "        'iter_n':50,\n",
    "        'start_sigma':0.78*1.1,\n",
    "        'end_sigma':0.40,\n",
    "        'start_step_size':6.*0.25,\n",
    "        'end_step_size':1.5*0.25\n",
    "    },\n",
    "    {\n",
    "        'layer':'conv5',\n",
    "        'scale':1.05,\n",
    "        'iter_n':25,\n",
    "        'start_sigma':0.4,\n",
    "        'end_sigma':0.1,\n",
    "        'start_step_size':1.5*0.25,\n",
    "        'end_step_size':0.5*0.25\n",
    "    }\n",
    "]\n",
    "\n",
    "# get original input size of network\n",
    "original_w = net.blobs['data'].width\n",
    "original_h = net.blobs['data'].height\n",
    "# the background color of the initial image\n",
    "background_color = np.float32([250.0, 250.0, 250.0])\n",
    "# generate initial random image\n",
    "gen_image = np.random.normal(background_color, 8, (original_w, original_h, 3))\n",
    "\n",
    "# which filter in layer to visualize (conv5 has 512 filters)\n",
    "imagenet_class = 10\n",
    "\n",
    "# generate class visualization via octavewise gradient ascent\n",
    "gen_image = deepdraw(net, gen_image, octaves, focus=imagenet_class, \n",
    "                 random_crop=True, visualize=False)\n",
    "\n",
    "# save image\n",
    "#img_fn = '_'.join([model_name, \"deepdraw\", str(imagenet_class)+'.png'])\n",
    "#PIL.Image.fromarray(np.uint8(gen_image)).save('./' + img_fn)"
   ]
  }
 ],
 "metadata": {
  "kernelspec": {
   "display_name": "Python 2",
   "language": "python",
   "name": "python2"
  },
  "language_info": {
   "codemirror_mode": {
    "name": "ipython",
    "version": 2
   },
   "file_extension": ".py",
   "mimetype": "text/x-python",
   "name": "python",
   "nbconvert_exporter": "python",
   "pygments_lexer": "ipython2",
   "version": "2.7.6"
  }
 },
 "nbformat": 4,
 "nbformat_minor": 0
}
