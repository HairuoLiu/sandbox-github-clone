{
 "metadata": {
  "name": "",
  "signature": "sha256:5c86e2626347a18f148af7e466d61d5fb2ee9626cad85e92a5bd58ee9992f358"
 },
 "nbformat": 3,
 "nbformat_minor": 0,
 "worksheets": [
  {
   "cells": [
    {
     "cell_type": "heading",
     "level": 2,
     "metadata": {},
     "source": [
      "Tied Edges Using YAHMM"
     ]
    },
    {
     "cell_type": "markdown",
     "metadata": {},
     "source": [
      "Author: Jacob Schreiber jmschreiber91@gmail.com"
     ]
    },
    {
     "cell_type": "markdown",
     "metadata": {},
     "source": [
      "Tied edges are similar to tied distributions, in that they affect the training of edges. Edges which are tied change training such that a transition across one of them counts as a transition across all of them. This can be useful if you have a large repeating model, but not enough data to train each position in that model.\n",
      "\n",
      "For example, lets say that you had a DNA profile model which looked like this: \n",
      "\n",
      "![](http://www.cs.tau.ac.il/~rshamir/algmb/00/scribe00/html/lec06/img106.gif)\n",
      "<h6 align='center'><i>Picture from</i> Biological Sequence Analysis: Probabilistic Methods of Proteins and Nucleic Acids<i> by Durbin, Eddy, Krogh, and Mitchison</i></h6>\n",
      "\n",
      "The code to make this model would be:"
     ]
    },
    {
     "cell_type": "code",
     "collapsed": false,
     "input": [
      "from yahmm import *\n",
      "from numpy import *"
     ],
     "language": "python",
     "metadata": {},
     "outputs": [],
     "prompt_number": 1
    },
    {
     "cell_type": "code",
     "collapsed": false,
     "input": [
      "model = Model( \"Global Alignment\")\n",
      "\n",
      "# Define the distribution for insertions\n",
      "i_d = DiscreteDistribution( { 'A': 0.25, 'C': 0.25, 'G': 0.25, 'T': 0.25 } )\n",
      "\n",
      "# Create the insert states\n",
      "i0 = State( i_d, name=\"I0\" )\n",
      "i1 = State( i_d, name=\"I1\" )\n",
      "i2 = State( i_d, name=\"I2\" )\n",
      "i3 = State( i_d, name=\"I3\" )\n",
      "\n",
      "# Create the match states\n",
      "m1 = State( DiscreteDistribution({ \"A\": 0.95, 'C': 0.01, 'G': 0.01, 'T': 0.02 }) , name=\"M1\" )\n",
      "m2 = State( DiscreteDistribution({ \"A\": 0.003, 'C': 0.99, 'G': 0.003, 'T': 0.004 }) , name=\"M2\" )\n",
      "m3 = State( DiscreteDistribution({ \"A\": 0.01, 'C': 0.01, 'G': 0.01, 'T': 0.97 }) , name=\"M3\" )\n",
      "\n",
      "# Create the delete states\n",
      "d1 = State( None, name=\"D1\" )\n",
      "d2 = State( None, name=\"D2\" )\n",
      "d3 = State( None, name=\"D3\" )\n",
      "\n",
      "# Add all the states to the model\n",
      "model.add_states( [i0, i1, i2, i3, m1, m2, m3, d1, d2, d3 ] )\n",
      "\n",
      "# Create transitions from match states\n",
      "model.add_transition( model.start, m1, 0.9 )\n",
      "model.add_transition( model.start, i0, 0.1 )\n",
      "model.add_transition( m1, m2, 0.9 )\n",
      "model.add_transition( m1, i1, 0.05 )\n",
      "model.add_transition( m1, d2, 0.05 )\n",
      "model.add_transition( m2, m3, 0.9 )\n",
      "model.add_transition( m2, i2, 0.05 )\n",
      "model.add_transition( m2, d3, 0.05 )\n",
      "model.add_transition( m3, model.end, 0.9 )\n",
      "model.add_transition( m3, i3, 0.1 )\n",
      "\n",
      "# Create transitions from insert states\n",
      "model.add_transition( i0, i0, 0.70 )\n",
      "model.add_transition( i0, d1, 0.15 )\n",
      "model.add_transition( i0, m1, 0.15 )\n",
      "\n",
      "model.add_transition( i1, i1, 0.70 )\n",
      "model.add_transition( i1, d2, 0.15 )\n",
      "model.add_transition( i1, m2, 0.15 )\n",
      "\n",
      "model.add_transition( i2, i2, 0.70 )\n",
      "model.add_transition( i2, d3, 0.15 )\n",
      "model.add_transition( i2, m3, 0.15 )\n",
      "\n",
      "model.add_transition( i3, i3, 0.85 )\n",
      "model.add_transition( i3, model.end, 0.15 )\n",
      "\n",
      "# Create transitions from delete states\n",
      "model.add_transition( d1, d2, 0.15 )\n",
      "model.add_transition( d1, i1, 0.15 )\n",
      "model.add_transition( d1, m2, 0.70 ) \n",
      "\n",
      "model.add_transition( d2, d3, 0.15 )\n",
      "model.add_transition( d2, i2, 0.15 )\n",
      "model.add_transition( d2, m3, 0.70 )\n",
      "\n",
      "model.add_transition( d3, i3, 0.30 )\n",
      "model.add_transition( d3, model.end, 0.70 )\n",
      "\n",
      "# Call bake to finalize the structure of the model.\n",
      "model.bake()"
     ],
     "language": "python",
     "metadata": {},
     "outputs": [],
     "prompt_number": 2
    },
    {
     "cell_type": "markdown",
     "metadata": {},
     "source": [
      "We can do somewhat trivial things which we've done before. However, we see that the model has a repeating structure of a match state, an insert state, and a delete state. With a 3-long example, it would be relatively simple to train each edge, but with even a 10-long example, there are many edges, and getting accurate measurements for each edge would be difficult.\n",
      "\n",
      "Tied edges help to solve this problem by saying that going across certain edges is not a position-specific phenomena. For example, if a sequence aligns to `i2` several times in a row, it's probably a phenomena more specific to insert states in general, than the second position in the model. All transitions from `i2` to `i2` now affect all self-loop insert transitions.\n",
      "\n",
      "Lets look at some transitions first, before training."
     ]
    },
    {
     "cell_type": "code",
     "collapsed": false,
     "input": [
      "indices = { state.name: i for i, state in enumerate( model.states ) }\n",
      "\n",
      "transitions = model.dense_transition_matrix()\n",
      "i0, i1, i2 = indices['I0'], indices['I1'], indices['I2']\n",
      "d1, d2, d3 = indices['D1'], indices['D2'], indices['D3']\n",
      "m1, m2, m3 = indices['M1'], indices['M2'], indices['M3']\n",
      "\n",
      "print transitions[i0, i0], transitions[i1, i1], transitions[i2, i2]\n",
      "print transitions[d1, d2], transitions[d2, d3]\n",
      "print transitions[m1, m2], transitions[m2, m3]"
     ],
     "language": "python",
     "metadata": {},
     "outputs": [
      {
       "output_type": "stream",
       "stream": "stdout",
       "text": [
        "-0.356674943939 -0.356674943939 -0.356674943939\n",
        "-1.89711998489 -1.89711998489\n",
        "-0.105360515658 -0.105360515658\n"
       ]
      }
     ],
     "prompt_number": 4
    },
    {
     "cell_type": "markdown",
     "metadata": {},
     "source": [
      "Looks good. We didn't modify the model, and started it initiallly with same values for these.\n",
      "\n",
      "Now lets train on some sequences."
     ]
    },
    {
     "cell_type": "code",
     "collapsed": false,
     "input": [
      "sequences = [ list(x) for x in ( 'A', 'ACT', 'GGCA', 'TACCTGT', 'CA', 'AAAAAAAA', 'ACGTTTTTTTGG', 'ACG', 'GCACA' ) ]\n",
      "model.train( sequences )\n",
      "\n",
      "transitions = model.dense_transition_matrix()\n",
      "print transitions[i0, i0], transitions[i1, i1], transitions[i2, i2]\n",
      "print transitions[d1, d2], transitions[d2, d3]\n",
      "print transitions[m1, m2], transitions[m2, m3]"
     ],
     "language": "python",
     "metadata": {},
     "outputs": [
      {
       "output_type": "stream",
       "stream": "stdout",
       "text": [
        "Training improvement: -1.05389743843\n",
        "Total Training Improvement:  -1.05389743843\n",
        "-0.671561297769 -0.363965082857 -0.367711513544\n",
        "-1.06878154105 -0.425559960916\n",
        "-0.524762602906 -0.466737198789\n"
       ]
      }
     ],
     "prompt_number": 5
    },
    {
     "cell_type": "markdown",
     "metadata": {},
     "source": [
      "Very different now! It makes sense that the training is negative, because the sequences I randomly generated are poorly modelled by the HMM I created. I'm interested right now in looking at insertions and deletions (INDELS), which are possible but not likely under the model.\n",
      "\n",
      "More importantly, these values seem to be different depending on position. `i0` to `i0` is not the same as `i1` to `i1`. \n",
      "\n",
      "This is good if you have enough training data to get accurate values for each position. If you have enough data, the subtle differences of these edges may yield useful information. However, more than likely, you don't have enough information to train each edge accurately, and an outlier may screw with the edges. You'd want to then tie the repeating edges, so that a transition across one counted as a transition across all of them, making these phenomena position-independent. Doing this is simple using YAHMM."
     ]
    },
    {
     "cell_type": "code",
     "collapsed": false,
     "input": [
      "model = Model( \"Global Alignment\")\n",
      "\n",
      "# Define the distribution for insertions\n",
      "i_d = DiscreteDistribution( { 'A': 0.25, 'C': 0.25, 'G': 0.25, 'T': 0.25 } )\n",
      "\n",
      "# Create the insert states\n",
      "i0 = State( i_d, name=\"I0\" )\n",
      "i1 = State( i_d, name=\"I1\" )\n",
      "i2 = State( i_d, name=\"I2\" )\n",
      "i3 = State( i_d, name=\"I3\" )\n",
      "\n",
      "# Create the match states\n",
      "m1 = State( DiscreteDistribution({ \"A\": 0.95, 'C': 0.01, 'G': 0.01, 'T': 0.02 }) , name=\"M1\" )\n",
      "m2 = State( DiscreteDistribution({ \"A\": 0.003, 'C': 0.99, 'G': 0.003, 'T': 0.004 }) , name=\"M2\" )\n",
      "m3 = State( DiscreteDistribution({ \"A\": 0.01, 'C': 0.01, 'G': 0.01, 'T': 0.97 }) , name=\"M3\" )\n",
      "\n",
      "# Create the delete states\n",
      "d1 = State( None, name=\"D1\" )\n",
      "d2 = State( None, name=\"D2\" )\n",
      "d3 = State( None, name=\"D3\" )\n",
      "\n",
      "# Add all the states to the model\n",
      "model.add_states( [i0, i1, i2, i3, m1, m2, m3, d1, d2, d3 ] )\n",
      "\n",
      "# Create transitions from match states\n",
      "model.add_transition( model.start, m1, 0.9 )\n",
      "model.add_transition( model.start, i0, 0.1 )\n",
      "model.add_transition( m1, m2, 0.9 )\n",
      "model.add_transition( m1, i1, 0.05 )\n",
      "model.add_transition( m1, d2, 0.05 )\n",
      "model.add_transition( m2, m3, 0.9 )\n",
      "model.add_transition( m2, i2, 0.05 )\n",
      "model.add_transition( m2, d3, 0.05 )\n",
      "model.add_transition( m3, model.end, 0.9 )\n",
      "model.add_transition( m3, i3, 0.1 )\n",
      "\n",
      "# Create transitions from insert states\n",
      "model.add_transition( i0, i0, 0.70, group=\"i_a\" )\n",
      "model.add_transition( i0, d1, 0.15, group=\"i_b\" )\n",
      "model.add_transition( i0, m1, 0.15, group=\"i_c\" )\n",
      "\n",
      "model.add_transition( i1, i1, 0.70, group=\"i_a\" )\n",
      "model.add_transition( i1, d2, 0.15, group=\"i_b\" )\n",
      "model.add_transition( i1, m2, 0.15, group=\"i_c\" )\n",
      "\n",
      "model.add_transition( i2, i2, 0.70, group=\"i_a\" )\n",
      "model.add_transition( i2, d3, 0.15, group=\"i_b\" )\n",
      "model.add_transition( i2, m3, 0.15, group=\"i_c\" )\n",
      "\n",
      "model.add_transition( i3, i3, 0.85, group=\"i_a\" )\n",
      "model.add_transition( i3, model.end, 0.15 )\n",
      "\n",
      "# Create transitions from delete states\n",
      "model.add_transition( d1, d2, 0.15, group=\"d_a\" )\n",
      "model.add_transition( d1, i1, 0.15, group=\"d_b\" )\n",
      "model.add_transition( d1, m2, 0.70, group=\"d_c\" ) \n",
      "\n",
      "model.add_transition( d2, d3, 0.15, group=\"d_a\" )\n",
      "model.add_transition( d2, i2, 0.15, group=\"d_b\" )\n",
      "model.add_transition( d2, m3, 0.70, group=\"d_c\" )\n",
      "\n",
      "model.add_transition( d3, i3, 0.30 )\n",
      "model.add_transition( d3, model.end, 0.70 )\n",
      "\n",
      "# Call bake to finalize the structure of the model.\n",
      "model.bake()"
     ],
     "language": "python",
     "metadata": {},
     "outputs": [],
     "prompt_number": 6
    },
    {
     "cell_type": "markdown",
     "metadata": {},
     "source": [
      "Lets run the same code as before, before training."
     ]
    },
    {
     "cell_type": "code",
     "collapsed": false,
     "input": [
      "indices = { state.name: i for i, state in enumerate( model.states ) }\n",
      "\n",
      "transitions = model.dense_transition_matrix()\n",
      "i0, i1, i2 = indices['I0'], indices['I1'], indices['I2']\n",
      "d1, d2, d3 = indices['D1'], indices['D2'], indices['D3']\n",
      "m1, m2, m3 = indices['M1'], indices['M2'], indices['M3']\n",
      "\n",
      "print transitions[i0, i0], transitions[i1, i1], transitions[i2, i2]\n",
      "print transitions[d1, d2], transitions[d2, d3]\n",
      "print transitions[m1, m2], transitions[m2, m3]"
     ],
     "language": "python",
     "metadata": {},
     "outputs": [
      {
       "output_type": "stream",
       "stream": "stdout",
       "text": [
        "-0.356674943939 -0.356674943939 -0.356674943939\n",
        "-1.89711998489 -1.89711998489\n",
        "-0.105360515658 -0.105360515658\n"
       ]
      }
     ],
     "prompt_number": 7
    },
    {
     "cell_type": "markdown",
     "metadata": {},
     "source": [
      "Looks good. Now lets see what happens after training."
     ]
    },
    {
     "cell_type": "code",
     "collapsed": false,
     "input": [
      "sequences = [ list(x) for x in ( 'A', 'ACT', 'GGCA', 'TACCTGT', 'CA', 'AAAAAAAA', 'ACGTTTTTTTGG', 'ACG', 'GCACA' ) ]\n",
      "model.train( sequences )\n",
      "\n",
      "transitions = model.dense_transition_matrix()\n",
      "print transitions[i0, i0], transitions[i1, i1], transitions[i2, i2]\n",
      "print transitions[d1, d2], transitions[d2, d3]\n",
      "print transitions[m1, m2], transitions[m2, m3]"
     ],
     "language": "python",
     "metadata": {},
     "outputs": [
      {
       "output_type": "stream",
       "stream": "stdout",
       "text": [
        "Training improvement: -1.15388597427\n",
        "Total Training Improvement:  -1.15388597427\n",
        "-0.312637409339 -0.312637409339 -0.312637409339\n",
        "-0.604783721038 -0.604783721038\n",
        "-0.524762602906 -0.466737198789\n"
       ]
      }
     ],
     "prompt_number": 8
    },
    {
     "cell_type": "markdown",
     "metadata": {},
     "source": [
      "Looks good! The first two lines are tied edges, while the third line are edges which are not tied. As expected, the first two lines are all the same number, while the third line is position-specific."
     ]
    },
    {
     "cell_type": "heading",
     "level": 3,
     "metadata": {},
     "source": [
      "Package Information"
     ]
    },
    {
     "cell_type": "markdown",
     "metadata": {},
     "source": [
      "YAHMM is an open source, free to use package. Installation is as easy as `pip install yahmm`, or cloning from the GitHub repo. \n",
      "\n",
      "Comments? Questions? Open an issue on the GitHub page or email me."
     ]
    }
   ],
   "metadata": {}
  }
 ]
}