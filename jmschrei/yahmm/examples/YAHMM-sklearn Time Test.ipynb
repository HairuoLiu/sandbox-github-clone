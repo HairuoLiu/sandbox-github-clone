{
 "metadata": {
  "name": "",
  "signature": "sha256:4663e4c5bc19a412a8ec877158712959f52be50af7ba41f34e693d922856c08e"
 },
 "nbformat": 3,
 "nbformat_minor": 0,
 "worksheets": [
  {
   "cells": [
    {
     "cell_type": "heading",
     "level": 2,
     "metadata": {},
     "source": [
      "YAHMM vs SKLearn Time Test"
     ]
    },
    {
     "cell_type": "markdown",
     "metadata": {},
     "source": [
      "Author: <a href=http://users.soe.ucsc.edu/~jmschrei/>Jacob Schreiber</a> jmchreiber91@gmail.com\n",
      "\n",
      "We want to test the speed of the Yet Another Hidden Markov Model (YAHMM) package versus a current standard, scikit-learn. Scikit-learn's HMM support is currently deprecated, and so comparing a list of features may not be appropriate. However, it uses matrix operations which have been optimized in C to perform the underlying math, and so comparing the speed of supported features is a good test to see if YAHMM is in the same general range for speed."
     ]
    },
    {
     "cell_type": "code",
     "collapsed": false,
     "input": [
      "%matplotlib inline\n",
      "import yahmm\n",
      "import sklearn\n",
      "import time\n",
      "\n",
      "print \"Package Versions\"\n",
      "print \"YAHMM Version: {}\".format( yahmm.__version__ )\n",
      "print \"SKLEARN Version: {}\".format( sklearn.__version__ )\n",
      "\n",
      "from yahmm import *\n",
      "from sklearn.hmm import *"
     ],
     "language": "python",
     "metadata": {},
     "outputs": [
      {
       "output_type": "stream",
       "stream": "stdout",
       "text": [
        "Package Versions\n",
        "YAHMM Version: 1.0.0\n",
        "SKLEARN Version: 0.14.1\n"
       ]
      }
     ],
     "prompt_number": 1
    },
    {
     "cell_type": "markdown",
     "metadata": {},
     "source": [
      "We are comparing YAHMM v1.0.0 to sklearn v0.14.1. These calculations were done on a laptop running 64-bit Windows 7, clocked at 2.2 GHz. Download and rerun this notebook to see if YAHMM is faster for your machine. As a note: These times are approximate, and displayed to far more significant figures than they should actually be. Please take the exact numbers with a grain of salt.\n",
      "\n",
      "Lets first look at the example of a small dense two state HMM which models CG islands in a DNA sequence. DNA sequences are made up of four nucleotides, and CG islands are regions rich in the nucleotides cytosine (C) and guanine (G). It can be biologically useful to identify which regions in the genome are rich in these two nucleotides, and hidden Markov models can decode a sequence with ease.\n",
      "\n",
      "Lets first define the amount of times we want each of these algorithms to run."
     ]
    },
    {
     "cell_type": "code",
     "collapsed": false,
     "input": [
      "n = 100"
     ],
     "language": "python",
     "metadata": {},
     "outputs": [],
     "prompt_number": 2
    },
    {
     "cell_type": "markdown",
     "metadata": {},
     "source": [
      "The first step is to create a random 100,000 nucleotide sequence, with three CG islands put in. This is done through a simple weighted choice, with the weights being the same as the emission distributions in the two states of the model later."
     ]
    },
    {
     "cell_type": "code",
     "collapsed": false,
     "input": [
      "# Define the nucleotide alphabet\n",
      "nuc = ['A', 'C', 'G', 'T']\n",
      "\n",
      "# Define the CG island and background nucleotide probabilities, with\n",
      "# indexes matching the nuc list.\n",
      "CG = [0.10, 0.40, 0.40, 0.10]\n",
      "null = [0.25, 0.25, 0.25, 0.25 ]\n",
      "\n",
      "# Generate the sequence in seven segments, four background regions and three CG\n",
      "# regions.\n",
      "segments = ( np.random.choice( nuc, 20000, True, null ),\n",
      "             np.random.choice( nuc, 10000, True, CG ),\n",
      "             np.random.choice( nuc, 20000, True, null ),\n",
      "             np.random.choice( nuc, 10000, True, CG ),\n",
      "             np.random.choice( nuc, 20000, True, null ),\n",
      "             np.random.choice( nuc, 10000, True, CG ),\n",
      "             np.random.choice( nuc, 10000, True, null ) )\n",
      "\n",
      "# Concatenate them into one long sequence.\n",
      "sequence = np.concatenate( segments)"
     ],
     "language": "python",
     "metadata": {},
     "outputs": [],
     "prompt_number": 3
    },
    {
     "cell_type": "markdown",
     "metadata": {},
     "source": [
      "Now that we have a sequence, and a number of times we want to test each algorithm, we need to build the models in both sklearn and YAHMM. This is done in sklearn using a MultinomialHMM, and done in YAHMM using states with DiscreteDistribution emission distributions. Both represent the same underlying model."
     ]
    },
    {
     "cell_type": "code",
     "collapsed": false,
     "input": [
      "# Build the SKLearn HMM using the matrix representation it requires.\n",
      "# Create the probability of starting in one of the two states.\n",
      "startprob = np.array([0.9, 0.1])\n",
      "\n",
      "# Create the transitions between the two states.\n",
      "transmat = np.array([[ 0.9, 0.1],\n",
      "                     [ 0.2, 0.8]] )\n",
      "\n",
      "# The first state has the null distribution, and the second state has\n",
      "# the CG island distribution.\n",
      "emissions = np.array([[ 0.25, 0.25, 0.25, 0.25 ],\n",
      "                      [ 0.10, 0.40, 0.40, 0.10 ]])\n",
      "\n",
      "# Create the model object. It does not take the emission matrix as an argument,\n",
      "# and so that property must be set in the next line.\n",
      "sklearn_model = MultinomialHMM( n_components=2, \n",
      "    transmat=transmat, startprob=startprob )\n",
      "sklearn_model.emissionprob_ = emissions\n",
      "\n",
      "\n",
      "# SKLearn HMMs do not actually take characters, they take numbers representing\n",
      "# indexes. We must convert the sequence into these numbers before doing the\n",
      "# speed test.\n",
      "d = {'A':0, 'C':1, 'G':2, 'T':3 }\n",
      "sklearn_seq = map( d.__getitem__, sequence )"
     ],
     "language": "python",
     "metadata": {},
     "outputs": [],
     "prompt_number": 4
    },
    {
     "cell_type": "markdown",
     "metadata": {},
     "source": [
      "The sequence needs to be preprocessed for the sklearn model, as it won't actually take in characters, but rather integers corresponding to each of the characters. This is done before the speed test to make sure it doesn't interfere with our results. Now lets build the YAHMMmodel."
     ]
    },
    {
     "cell_type": "code",
     "collapsed": false,
     "input": [
      "# Create the YAHMM model object \n",
      "yahmm_model = Model( \"CG Islands\" )\n",
      "\n",
      "# Create the background state, with the uniform distribution.\n",
      "background = State( DiscreteDistribution( \n",
      "    {'A': 0.25, 'C': 0.25, 'G': 0.25, 'T': 0.25 } ), name=\"Background\" )\n",
      "\n",
      "# Create the CG island state, with the CG weighted distribution.\n",
      "island = State( DiscreteDistribution( \n",
      "    {'A': 0.10, 'C': 0.40, 'G': 0.40, 'T': 0.10 } ), name=\"Island\" )\n",
      "\n",
      "# Add both of the states to the model.\n",
      "yahmm_model.add_states([background, island])\n",
      "\n",
      "# Add all the transitions from the start to each of the states, and from the\n",
      "# states to each other.\n",
      "yahmm_model.add_transition( yahmm_model.start, background, 0.90 )\n",
      "yahmm_model.add_transition( yahmm_model.start, island, 0.10 )\n",
      "yahmm_model.add_transition( background, background, 0.90 )\n",
      "yahmm_model.add_transition( background, island, 0.10 )\n",
      "yahmm_model.add_transition( island, island, 0.80 )\n",
      "yahmm_model.add_transition( island, background, 0.20 )\n",
      "\n",
      "# Bake the model, to solidify the internals.\n",
      "yahmm_model.bake( verbose=True )"
     ],
     "language": "python",
     "metadata": {},
     "outputs": [],
     "prompt_number": 5
    },
    {
     "cell_type": "markdown",
     "metadata": {},
     "source": [
      "scikit-learn has sequence decoding (Viterbi) and sequence scoring (forward) implemented, and so we compare the speed of YAHMM using those two algorithms, and make sure that we get the same log probability for the scoring. We start off by comparing the Viterbi decoding time on the two packages."
     ]
    },
    {
     "cell_type": "code",
     "collapsed": false,
     "input": [
      "## SKLEARN ##\n",
      "# Set the starting time to 0\n",
      "t = 0.\n",
      "\n",
      "# Run through this loop n times, to get a better measurement of the mean time\n",
      "# it takes for the algorithms.\n",
      "for i in xrange( n ):\n",
      "    # Get the starting time.\n",
      "    tic = time.time()\n",
      "\n",
      "    # Decode the sequence using the viterbi algorithm.\n",
      "    sklearn_model.decode( sklearn_seq )\n",
      "\n",
      "    # Add the time it took this loop to the total time.\n",
      "    t += time.time() - tic\n",
      "\n",
      "scikit_learn_time = t\n",
      "# Calculate the logp for reference.\n",
      "logp, path = sklearn_model.decode( sklearn_seq )\n",
      "\n",
      "# Print the results!\n",
      "print \"scikit-learn: logp = {}, Total Time = {}, Time Per Loop = {}\".format( logp, t, t/n )\n",
      "\n",
      "## YAHMM ##\n",
      "# Set the starting time to 0 \n",
      "t = 0.\n",
      "\n",
      "# Run through this loop n times, to get a better measurement of the mean time\n",
      "# it takes for the algorithms.\n",
      "for i in xrange( n ):\n",
      "    # Get the starting time\n",
      "    tic = time.time()\n",
      "\n",
      "    # Decode the sequence using the viterbi algorithm.\n",
      "    yahmm_model.viterbi( sequence )\n",
      "\n",
      "    # Add the time it took for this loop to the total time.\n",
      "    t += time.time() - tic\n",
      "yahmm_time = t\n",
      "# Calculate the logp for reference.\n",
      "logp, path = yahmm_model.viterbi( sequence )\n",
      "\n",
      "# Print the results!\n",
      "print \"YAHMM: logp = {}, Total Time = {}, Time Per Loop = {}\".format( logp, t, t/n )\n",
      "\n",
      "# Print how much faster one is than the other\n",
      "if yahmm_time > scikit_learn_time:\n",
      "    print \"scikit_learn is {}x faster\".format( yahmm_time / scikit_learn_time )\n",
      "else:\n",
      "    print \"yahmm is {}x faster\".format( scikit_learn_time / yahmm_time )"
     ],
     "language": "python",
     "metadata": {},
     "outputs": [
      {
       "output_type": "stream",
       "stream": "stdout",
       "text": [
        "scikit-learn: logp = -146577.978708, Total Time = 394.746999979, Time Per Loop = 3.94746999979\n",
        "YAHMM: logp = -146577.978708, Total Time = 33.7730000019, Time Per Loop = 0.337730000019"
       ]
      },
      {
       "output_type": "stream",
       "stream": "stdout",
       "text": [
        "\n",
        "yahmm is 11.6882420856x faster\n"
       ]
      }
     ],
     "prompt_number": 6
    },
    {
     "cell_type": "markdown",
     "metadata": {},
     "source": [
      "YAHMM is significantly faster performing the Viterbi algorithm than scikit-learn is. It is probably safe to say that YAHMM is around an order of magnitude faster. Now, lets compare the forward algorithm time on the two packages,"
     ]
    },
    {
     "cell_type": "code",
     "collapsed": false,
     "input": [
      "## SKLEARN ##\n",
      "# Set the starting time to 0\n",
      "t = 0.\n",
      "\n",
      "# Run through this loop n times, to get a better measurement of the mean time\n",
      "# it takes for the algorithms.\n",
      "for i in xrange( n ):\n",
      "    # Get the starting time.\n",
      "    tic = time.time()\n",
      "\n",
      "    # Score the sequence using the forward algorithm.\n",
      "    sklearn_model.score( sklearn_seq )\n",
      "\n",
      "    # Add the time it took for this loop to the total time.\n",
      "    t += time.time() - tic\n",
      "scikit_learn_time = t\n",
      "\n",
      "# Calculate the logp for reference.\n",
      "logp = sklearn_model.score( sklearn_seq )\n",
      "\n",
      "# Print the results!\n",
      "print \"scikit-learn: logp = {}, Total Time = {}, Time Per Loop = {}\".format( logp, t, t/n )\n",
      "\n",
      "## YAHMM ##\n",
      "# Set the starting time to 0\n",
      "t = 0.\n",
      "\n",
      "# Run through this loop n times, to get a better measurement of the mean time\n",
      "# it takes for the algorithms.\n",
      "for i in xrange( n ):\n",
      "    # Get the starting time.\n",
      "    tic = time.time()\n",
      "\n",
      "    # Score the sequence using the forward algorithm (model.log_probability is\n",
      "    # a wrapper for the forward algorithm, returning only the index of\n",
      "    # interest instead of the full matrix)\n",
      "    yahmm_model.log_probability( sequence )\n",
      "\n",
      "    # Add the time it took for this loop to the total time.\n",
      "    t += time.time() - tic\n",
      "yahmm_time = t\n",
      "    \n",
      "# Calculate the logp for reference.\n",
      "logp = yahmm_model.log_probability( sequence )\n",
      "\n",
      "# Print the results!\n",
      "print \"YAHMM: logp = {}, Total Time = {}, Time Per Loop = {} \".format( logp, t, t/n )\n",
      "\n",
      "# Print how much faster one is than the other\n",
      "if yahmm_time > scikit_learn_time:\n",
      "    print \"scikit_learn is {}x faster\".format( yahmm_time / scikit_learn_time )\n",
      "else:\n",
      "    print \"yahmm is {}x faster\".format( scikit_learn_time / yahmm_time )"
     ],
     "language": "python",
     "metadata": {},
     "outputs": [
      {
       "output_type": "stream",
       "stream": "stdout",
       "text": [
        "scikit-learn: logp = -136213.410941, Total Time = 78.9299998283, Time Per Loop = 0.789299998283\n",
        "YAHMM: logp = -136213.410941, Total Time = 23.4089999199, Time Per Loop = 0.234089999199 "
       ]
      },
      {
       "output_type": "stream",
       "stream": "stdout",
       "text": [
        "\n",
        "yahmm is 3.37178008879x faster\n"
       ]
      }
     ],
     "prompt_number": 7
    },
    {
     "cell_type": "markdown",
     "metadata": {},
     "source": [
      "In this case, YAHMM is faster, but not as much faster as with the Viterbi decoding. It is probably safe to say it is approximately 3 times faster.\n",
      "\n",
      "Running these speed tests shows that not only is YAHMM in the ballpark when performing hidden Markov model calculations, but is actually several times faster than scikit-learn. Again, the scikit-learn HMM implementation is currently deprecated, and so this is not a reflection of the scikit-learn team at all, but rather simply showing that YAHMM is indeed a speedy implementation of hidden Markov models."
     ]
    },
    {
     "cell_type": "markdown",
     "metadata": {},
     "source": [
      "Now lets look at the example of a large sparse HMM, instead of a small dense HMM. YAHMM was designed to perform well on large sparse HMMs, by both storing the transition matrix in a sparse format, and also by only calculating probabilities across edges which exist, instead of the full matrix calculation.\n",
      "\n",
      "Lets define two helper functions, one for sklearn and one for YAHMM which will take in a profile as a list of dictionaries, each representing the discrete multinomial distribution at that position in the profile."
     ]
    },
    {
     "cell_type": "code",
     "collapsed": false,
     "input": [
      "def sklearn_profile( profile ):\n",
      "    '''\n",
      "    This function will take in a profile as a list of dictionaries, where each\n",
      "    dictionary represents a discrete distribution. It will then create a\n",
      "    multinomial HMM from that in the sklearn format.\n",
      "    '''\n",
      "\n",
      "    # Store the length of the profile.\n",
      "    n = len( profile )\n",
      "\n",
      "    # Make it only start at the first hidden state.\n",
      "    startprob = np.zeros(n)\n",
      "    startprob[0] = 1.0\n",
      "\n",
      "    # Initialize the transitions as all 0s.\n",
      "    transition = np.zeros( (n,n) )\n",
      "\n",
      "    # Iterate through each state in the profile\n",
      "    for i in xrange( n ):\n",
      "        # Set the probability of a self loop to 0.10\n",
      "        transition[i, i] = 0.1\n",
      "\n",
      "        # If this is the end state, we don't have a next state to transition\n",
      "        # to, and so just set the self transition to 1. \n",
      "        if i == n - 1:\n",
      "            transition[i, i] = 1\n",
      "\n",
      "        # Otherwise, set the probability of transitioning to the next state to\n",
      "        # 0.90.\n",
      "        else:\n",
      "            transition[i, i+1] = 0.9\n",
      "\n",
      "    # Unpack the distributions into arrays where the indexes correspond to the\n",
      "    # appropriate nucleotide.\n",
      "    emissions = np.array( [[col['A'], col['C'], \n",
      "        col['G'], col['T']] for col in profile] )\n",
      "\n",
      "    # Create the HMM object. \n",
      "    hmm = MultinomialHMM( n_components=n, transmat=transition, startprob=startprob )\n",
      "    hmm.emissionprob_ = emissions\n",
      "    return hmm"
     ],
     "language": "python",
     "metadata": {},
     "outputs": [],
     "prompt_number": 8
    },
    {
     "cell_type": "code",
     "collapsed": false,
     "input": [
      "def yahmm_profile( profile ):\n",
      "    '''\n",
      "    This function will take in a profile as a list of dictionaries, where each\n",
      "    dictionary represents a discrete distribution. It will then create a\n",
      "    multinomial HMM from that in YAHMM format.\n",
      "    '''\n",
      "\n",
      "    # Store the length of the profile.\n",
      "    n = len( profile )\n",
      "\n",
      "    # Turn the dictionaries into DiscreteDistribution objects\n",
      "    distributions = map( DiscreteDistribution, profile )\n",
      "\n",
      "    # Create the model object \n",
      "    model = Model( \"Profile\" )\n",
      "\n",
      "    # In order to connect the model, we're going to iterate through the states\n",
      "    # with a pointer to the current state, and a pointer to the previous state,\n",
      "    # in the same way you would go over a linked list.\n",
      "\n",
      "    # Start off with the start state.\n",
      "    last_state = model.start\n",
      "\n",
      "    # Iterate through the distributions\n",
      "    for i, distribution in enumerate( distributions ):\n",
      "        # Create a state object, and store it in the model.\n",
      "        state = State( distribution, name=str(i) )\n",
      "        model.add_state( state )\n",
      "\n",
      "\n",
      "        # Add the appropriate transitions, with the start state having a\n",
      "        # probability 1 transition to the first state, but otherwise the\n",
      "        # previous state having a 0.9 probability transition to the next\n",
      "        # state and a 0.10 probability transition to itself. \n",
      "        if i == n - 1:\n",
      "            model.add_transition( state, state, 1. )\n",
      "        else:\n",
      "            model.add_transition( state, state, 0.1 )\n",
      "\n",
      "        if i == 0:\n",
      "            model.add_transition( last_state, state, 1. )\n",
      "        else:\n",
      "            model.add_transition( last_state, state, 0.9 )\n",
      "\n",
      "        last_state = state\n",
      "\n",
      "    # Bake the structure to finalize the internals of the model.\n",
      "    model.bake()\n",
      "    return model"
     ],
     "language": "python",
     "metadata": {},
     "outputs": [],
     "prompt_number": 9
    },
    {
     "cell_type": "markdown",
     "metadata": {},
     "source": [
      "Lets create the profile, and then pass that into the aforementioned two functions to get two models. We then sample the YAHMM model in order to get the sequence in order to test. This sequence then gets preprocessed into the integer format for the sklearn HMM to be able to read."
     ]
    },
    {
     "cell_type": "code",
     "collapsed": false,
     "input": [
      "np.random.seed(0)\n",
      "random.seed(0)\n",
      "\n",
      "# Set the length of the profile\n",
      "m = 500\n",
      "\n",
      "# Initialize the profile with probability 0.01 for each of the nucleotides\n",
      "# to begin with. \n",
      "profile = [{ 'A': 0.01, 'C': 0.01, 'G': 0.01, 'T': 0.01 } for i in xrange(m)]\n",
      "\n",
      "# For each column, choose one nucleotide which should be mostly represented\n",
      "# at this position, and set that probability to 0.97 while the rest remain\n",
      "# 0.01, allowing for slight deviations from the profile.\n",
      "for i in xrange( m ):\n",
      "    nucleotide = random.choice(['A', 'C', 'G', 'T'])\n",
      "    profile[i][nucleotide] = 0.97\n",
      "\n",
      "# Create the sklearn model using this profile.\n",
      "sklearn_hmm = sklearn_profile( profile )\n",
      "\n",
      "# Create the YAHMM model using this profile. \n",
      "yahmm_hmm = yahmm_profile( profile )\n",
      "\n",
      "# Randomly generate a sequence using YAHMMs model.\n",
      "sequence = yahmm_hmm.sample( 2*n )\n",
      "\n",
      "# Convert the sequence from nucleotide characters to numerical indexes for\n",
      "# scikit-learn to use later.\n",
      "d = {'A':0, 'C':1, 'G':2, 'T':3 }\n",
      "sklearn_seq = map( d.__getitem__, sequence )"
     ],
     "language": "python",
     "metadata": {},
     "outputs": [],
     "prompt_number": 10
    },
    {
     "cell_type": "markdown",
     "metadata": {},
     "source": [
      "Now lets go through the same time tests as last time, first Viterbi and then forward."
     ]
    },
    {
     "cell_type": "code",
     "collapsed": false,
     "input": [
      "### VITERBI ALGORITHM TIME TEST ###\n",
      "## SCIKIT-LEARN ## \n",
      "# Set the running time to 0.\n",
      "t = 0\n",
      "\n",
      "# Perform the time test m times.\n",
      "for i in xrange( n ):\n",
      "    # Get the starting time\n",
      "    tic = time.time()\n",
      "\n",
      "    # Decode the sequence using the viterbi algorithm.\n",
      "    sklearn_hmm.decode( sklearn_seq )\n",
      "\n",
      "    # Append the time it took to the growing list. \n",
      "    t += time.time() - tic\n",
      "scikit_learn_time = t\n",
      "    \n",
      "# Calculate logp for reference.\n",
      "logp, path = sklearn_hmm.decode( sklearn_seq )\n",
      "\n",
      "# Print results.\n",
      "print \"SKLEARN HMM: logp {}, Total Time: {}, Time Per Loop: {}\".format( logp, t, t/n )\n",
      "\n",
      "## YAHMM ## \n",
      "# Set the running time to 0.\n",
      "t = 0\n",
      "\n",
      "# Perform the time test m times.\n",
      "for i in xrange( n ):\n",
      "    # Get the starting time.\n",
      "    tic = time.time()\n",
      "\n",
      "    # Decode the sequence using the viterbi algorithm.\n",
      "    yahmm_hmm.viterbi( sequence )\n",
      "\n",
      "    # Append the time it took to the growing list.\n",
      "    t += time.time() - tic\n",
      "yahmm_time = t\n",
      "    \n",
      "# Calculate logp for reference.\n",
      "logp, path = yahmm_hmm.viterbi( sequence )\n",
      "\n",
      "# Print results\n",
      "print \"YAHMM HMM: logp {}, Total Time: {}, Time Per Loop: {}\".format( logp, t, t/n )\n",
      "\n",
      "# Print how much faster one is than the other\n",
      "if yahmm_time > scikit_learn_time:\n",
      "    print \"scikit_learn is {}x faster\".format( yahmm_time / scikit_learn_time )\n",
      "else:\n",
      "    print \"yahmm is {}x faster\".format( scikit_learn_time / yahmm_time )"
     ],
     "language": "python",
     "metadata": {},
     "outputs": [
      {
       "output_type": "stream",
       "stream": "stdout",
       "text": [
        "SKLEARN HMM: logp -87.2849568201, Total Time: 42.8339998722, Time Per Loop: 0.428339998722\n",
        "YAHMM HMM: logp -87.2849568201, Total Time: 4.91499996185, Time Per Loop: 0.0491499996185"
       ]
      },
      {
       "output_type": "stream",
       "stream": "stdout",
       "text": [
        "\n",
        "yahmm is 8.71495426341x faster\n"
       ]
      }
     ],
     "prompt_number": 11
    },
    {
     "cell_type": "code",
     "collapsed": false,
     "input": [
      "### FORWARD ALGORITHM TIME TEST ###\n",
      "## SCIKIT-LEARN ##\n",
      "# Set the running time to 0.\n",
      "t = 0\n",
      "\n",
      "# Perform the time test m times.\n",
      "for i in xrange( n ):\n",
      "    # Get the starting time.\n",
      "    tic = time.time()\n",
      "\n",
      "    # Score the sequence using the forward algorithm.\n",
      "    sklearn_hmm.score( sklearn_seq )\n",
      "\n",
      "    # Append the time it took to the growing list.\n",
      "    t += time.time() - tic\n",
      "scikit_learn_time = t\n",
      "    \n",
      "# Calculate the logp for reference.\n",
      "logp = sklearn_hmm.score( sklearn_seq )\n",
      "\n",
      "# Print results\n",
      "print \"SKLEARN HMM: logp {}, Total Time: {}, Time Per Loop: {}\".format( logp, t, t/n )\n",
      "\n",
      "## YAHMM ##\n",
      "# Set the running time to 0.\n",
      "t = 0\n",
      "\n",
      "# Perform the time test m times.\n",
      "for i in xrange( n ):\n",
      "    # Get the starting time.\n",
      "    tic = time.time()\n",
      "\n",
      "    # Score the sequence using the forward algorithm.\n",
      "    yahmm_hmm.log_probability( sequence )\n",
      "\n",
      "    # Append the time it took to the growing list.\n",
      "    t += time.time() - tic\n",
      "yahmm_time = t\n",
      "    \n",
      "# Calculate the logp for reference.\n",
      "logp = yahmm_hmm.log_probability( sequence )\n",
      "\n",
      "# Print results.\n",
      "print \"YAHMM HMM: logp {}, Total Time: {}, Time Per Loop: {}\".format( logp, t, t/n )\n",
      "    \n",
      "# Print how much faster one is than the other\n",
      "if yahmm_time > scikit_learn_time:\n",
      "    print \"scikit_learn is {}x faster\".format( yahmm_time / scikit_learn_time )\n",
      "else:\n",
      "    print \"yahmm is {}x faster\".format( scikit_learn_time / yahmm_time )"
     ],
     "language": "python",
     "metadata": {},
     "outputs": [
      {
       "output_type": "stream",
       "stream": "stdout",
       "text": [
        "SKLEARN HMM: logp -78.1659697372, Total Time: 359.721999884, Time Per Loop: 3.59721999884\n",
        "YAHMM HMM: logp -78.1659697372, Total Time: 15.1229996681, Time Per Loop: 0.151229996681"
       ]
      },
      {
       "output_type": "stream",
       "stream": "stdout",
       "text": [
        "\n",
        "yahmm is 23.7864185531x faster\n"
       ]
      }
     ],
     "prompt_number": 12
    },
    {
     "cell_type": "markdown",
     "metadata": {},
     "source": [
      "It looks like YAHMM is significantly faster than scikit-learn in both contexts. An interesting discovery is that the speed ratio for the Viterbi algorithm favors YAHMM more in the small dense example, instead of the large sparse example that YAHMM was built for. This seems more than made up for on the sum-of-all-paths decoding though.\n",
      "\n",
      "One concern worth addressing is that in this notebook, YAHMM was compared against the MultinomialHMM class. The GaussianHMM or GMMHMM models may be faster. A more thorough time test may compare YAHMM versus all of these models to compare speed."
     ]
    },
    {
     "cell_type": "heading",
     "level": 3,
     "metadata": {},
     "source": [
      "YAHMM Information"
     ]
    },
    {
     "cell_type": "markdown",
     "metadata": {},
     "source": [
      "YAHMM is freely available under the MIT license at https://github.com/jmschrei/yahmm. Feel free to contribute or comment on the library! \n",
      "    \n",
      "Installing YAHMM is easy, by simply calling `pip install yahmm`. Dependencies are numpy, scipy, matplotlib, networkx, and Cython. If you do not have these, and pip fails when building the prerequisites, the Anaconda distribution is a good way to get many scientific packages for Python, and has been shown on multiple platforms to allow YAHMM to install.\n",
      "\n",
      "If you have questions or comments, my email is jmschreiber91@gmail.com."
     ]
    }
   ],
   "metadata": {}
  }
 ]
}